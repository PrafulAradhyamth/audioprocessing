{
 "cells": [
  {
   "cell_type": "code",
   "execution_count": 2,
   "metadata": {},
   "outputs": [
    {
     "name": "stdout",
     "output_type": "stream",
     "text": [
      "warning: no common commits\n",
      "remote: Enumerating objects: 162, done.\u001b[K\n",
      "remote: Counting objects: 100% (21/21), done.\u001b[K\n",
      "remote: Compressing objects: 100% (15/15), done.\u001b[K\n",
      "remote: Total 162 (delta 12), reused 15 (delta 6), pack-reused 141\u001b[K\n",
      "Receiving objects: 100% (162/162), 2.26 MiB | 7.45 MiB/s, done.\n",
      "Resolving deltas: 100% (95/95), done.\n",
      "From https://github.com/PrafulAradhyamth/dlprac\n",
      " * branch            HEAD       -> FETCH_HEAD\n",
      "fatal: refusing to merge unrelated histories\n"
     ]
    }
   ],
   "source": [
    "!git pull https://github.com/PrafulAradhyamth/dlprac.git"
   ]
  },
  {
   "cell_type": "code",
   "execution_count": 1,
   "metadata": {},
   "outputs": [
    {
     "name": "stdout",
     "output_type": "stream",
     "text": [
      "--2023-06-22 11:48:15--  https://github.com/lijnati/MyIDLE-Create-Your-Own-Python-IDE/archive/refs/heads/master.zip\n",
      "Resolving github.com (github.com)... 140.82.121.4\n",
      "Connecting to github.com (github.com)|140.82.121.4|:443... connected.\n",
      "HTTP request sent, awaiting response... 302 Found\n",
      "Location: https://codeload.github.com/lijnati/MyIDLE-Create-Your-Own-Python-IDE/zip/refs/heads/master [following]\n",
      "--2023-06-22 11:48:16--  https://codeload.github.com/lijnati/MyIDLE-Create-Your-Own-Python-IDE/zip/refs/heads/master\n",
      "Resolving codeload.github.com (codeload.github.com)... 140.82.121.10\n",
      "Connecting to codeload.github.com (codeload.github.com)|140.82.121.10|:443... connected.\n",
      "HTTP request sent, awaiting response... 200 OK\n",
      "Length: unspecified [application/zip]\n",
      "Saving to: ‘master.zip’\n",
      "\n",
      "master.zip              [ <=>                ] 131.83K  --.-KB/s    in 0.02s   \n",
      "\n",
      "2023-06-22 11:48:16 (5.37 MB/s) - ‘master.zip’ saved [134997]\n",
      "\n"
     ]
    }
   ],
   "source": [
    "!wget https://github.com/lijnati/MyIDLE-Create-Your-Own-Python-IDE/archive/refs/heads/master.zip"
   ]
  },
  {
   "cell_type": "code",
   "execution_count": 9,
   "metadata": {},
   "outputs": [
    {
     "name": "stdout",
     "output_type": "stream",
     "text": [
      "Collecting image\n",
      "  Downloading image-1.5.33.tar.gz (15 kB)\n",
      "Requirement already satisfied: pillow in /home/dearadhp/.local/lib/python3.8/site-packages (from image) (9.5.0)\n",
      "Collecting django\n",
      "  Downloading Django-4.2.2-py3-none-any.whl (8.0 MB)\n",
      "\u001b[K     |████████████████████████████████| 8.0 MB 2.3 MB/s eta 0:00:01     |████████████████████████████▎   | 7.1 MB 2.3 MB/s eta 0:00:01\n",
      "\u001b[?25hRequirement already satisfied: six in /usr/lib/python3/dist-packages (from image) (1.14.0)\n",
      "Collecting asgiref<4,>=3.6.0\n",
      "  Downloading asgiref-3.7.2-py3-none-any.whl (24 kB)\n",
      "Collecting sqlparse>=0.3.1\n",
      "  Downloading sqlparse-0.4.4-py3-none-any.whl (41 kB)\n",
      "\u001b[K     |████████████████████████████████| 41 kB 150 kB/s  eta 0:00:01\n",
      "\u001b[?25hCollecting backports.zoneinfo; python_version < \"3.9\"\n",
      "  Downloading backports.zoneinfo-0.2.1-cp38-cp38-manylinux1_x86_64.whl (74 kB)\n",
      "\u001b[K     |████████████████████████████████| 74 kB 2.1 MB/s  eta 0:00:01\n",
      "\u001b[?25hRequirement already satisfied: typing-extensions>=4; python_version < \"3.11\" in /home/dearadhp/.local/lib/python3.8/site-packages (from asgiref<4,>=3.6.0->django->image) (4.5.0)\n",
      "Building wheels for collected packages: image\n",
      "  Building wheel for image (setup.py) ... \u001b[?25ldone\n",
      "\u001b[?25h  Created wheel for image: filename=image-1.5.33-py2.py3-none-any.whl size=19483 sha256=4b674b0a829ca6cb016a0b92734d78ffcee421afb41240a566cc939786a8bbe3\n",
      "  Stored in directory: /home/dearadhp/.cache/pip/wheels/ac/30/5c/a8b33888bea3507eda7c924a143d34b2390d2ca5b145b327b5\n",
      "Successfully built image\n",
      "Installing collected packages: asgiref, sqlparse, backports.zoneinfo, django, image\n",
      "Successfully installed asgiref-3.7.2 backports.zoneinfo-0.2.1 django-4.2.2 image-1.5.33 sqlparse-0.4.4\n"
     ]
    }
   ],
   "source": [
    "!pip install image"
   ]
  },
  {
   "cell_type": "code",
   "execution_count": null,
   "metadata": {},
   "outputs": [],
   "source": []
  }
 ],
 "metadata": {
  "kernelspec": {
   "display_name": "Python 3",
   "language": "python",
   "name": "python3"
  },
  "language_info": {
   "codemirror_mode": {
    "name": "ipython",
    "version": 3
   },
   "file_extension": ".py",
   "mimetype": "text/x-python",
   "name": "python",
   "nbconvert_exporter": "python",
   "pygments_lexer": "ipython3",
   "version": "3.8.10"
  },
  "orig_nbformat": 4
 },
 "nbformat": 4,
 "nbformat_minor": 2
}
