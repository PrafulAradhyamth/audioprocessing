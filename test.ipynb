{
 "cells": [
  {
   "cell_type": "code",
   "execution_count": 6,
   "metadata": {},
   "outputs": [
    {
     "name": "stdout",
     "output_type": "stream",
     "text": [
      "Cloning into 'DPR'...\n",
      "remote: Enumerating objects: 53, done.\u001b[K\n",
      "remote: Total 53 (delta 0), reused 0 (delta 0), pack-reused 53\u001b[K\n",
      "Unpacking objects: 100% (53/53), 1.51 MiB | 5.25 MiB/s, done.\n"
     ]
    }
   ],
   "source": [
    "!git clone https://github.com/PrafulAradhyamth/DPR.git"
   ]
  },
  {
   "cell_type": "code",
   "execution_count": 8,
   "metadata": {},
   "outputs": [
    {
     "name": "stdout",
     "output_type": "stream",
     "text": [
      "--2023-06-16 16:48:42--  https://github.com/jamesbowman/raytrace/archive/refs/heads/master.zip\n",
      "Resolving github.com (github.com)... 140.82.121.4\n",
      "Connecting to github.com (github.com)|140.82.121.4|:443... connected.\n",
      "HTTP request sent, awaiting response... 302 Found\n",
      "Location: https://codeload.github.com/jamesbowman/raytrace/zip/refs/heads/master [following]\n",
      "--2023-06-16 16:48:43--  https://codeload.github.com/jamesbowman/raytrace/zip/refs/heads/master\n",
      "Resolving codeload.github.com (codeload.github.com)... 140.82.121.9\n",
      "Connecting to codeload.github.com (codeload.github.com)|140.82.121.9|:443... connected.\n",
      "HTTP request sent, awaiting response... 200 OK\n",
      "Length: unspecified [application/zip]\n",
      "Saving to: ‘master.zip’\n",
      "\n",
      "master.zip              [ <=>                ]  16.18K  --.-KB/s    in 0.03s   \n",
      "\n",
      "2023-06-16 16:48:43 (505 KB/s) - ‘master.zip’ saved [16572]\n",
      "\n"
     ]
    }
   ],
   "source": [
    "!wget https://github.com/jamesbowman/raytrace/archive/refs/heads/master.zip"
   ]
  },
  {
   "cell_type": "code",
   "execution_count": null,
   "metadata": {},
   "outputs": [],
   "source": []
  }
 ],
 "metadata": {
  "kernelspec": {
   "display_name": "Python 3",
   "language": "python",
   "name": "python3"
  },
  "language_info": {
   "codemirror_mode": {
    "name": "ipython",
    "version": 3
   },
   "file_extension": ".py",
   "mimetype": "text/x-python",
   "name": "python",
   "nbconvert_exporter": "python",
   "pygments_lexer": "ipython3",
   "version": "3.8.10"
  },
  "orig_nbformat": 4
 },
 "nbformat": 4,
 "nbformat_minor": 2
}
