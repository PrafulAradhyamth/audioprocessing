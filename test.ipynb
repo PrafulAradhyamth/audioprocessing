{
 "cells": [
  {
   "cell_type": "code",
   "execution_count": 2,
   "metadata": {},
   "outputs": [
    {
     "name": "stdout",
     "output_type": "stream",
     "text": [
      "Archive:  master.zip\n",
      "f0cac80924adc57f3f5712bdc2f54fdc201c1f2e\n",
      "   creating: uss-master/\n",
      " extracting: uss-master/.gitignore   \n",
      "  inflating: uss-master/LICENSE      \n",
      "  inflating: uss-master/README.md    \n",
      "   creating: uss-master/metadata/\n",
      "  inflating: uss-master/metadata/class_labels_indices.csv  \n",
      "  inflating: uss-master/metadata/ontology.json  \n",
      "   creating: uss-master/panns/\n",
      "  inflating: uss-master/panns/config.py  \n",
      "  inflating: uss-master/panns/create_indexes.py  \n",
      "  inflating: uss-master/panns/dataset.py  \n",
      "  inflating: uss-master/panns/utilities.py  \n",
      "  inflating: uss-master/requirements.txt  \n",
      "   creating: uss-master/resources/\n",
      "  inflating: uss-master/resources/harry_potter.jpg  \n",
      "   creating: uss-master/scripts/\n",
      "  inflating: uss-master/scripts/1_pack_waveforms_to_hdf5s.sh  \n",
      "  inflating: uss-master/scripts/2_create_indexes.sh  \n",
      "  inflating: uss-master/scripts/3_create_evaluation_data.sh  \n",
      "  inflating: uss-master/scripts/4_train.sh  \n",
      "   creating: uss-master/scripts/train/\n",
      "  inflating: uss-master/scripts/train/Remarks.txt  \n",
      "  inflating: uss-master/scripts/train/ss_model=resunet30,querynet=at_soft,data=balanced.yaml  \n",
      "  inflating: uss-master/scripts/train/ss_model=resunet30,querynet=at_soft,data=full.yaml  \n",
      "  inflating: uss-master/scripts/train/ss_model=resunet30,querynet=emb,data=full.yaml  \n",
      "  inflating: uss-master/setup.py     \n",
      "   creating: uss-master/uss/\n",
      "   creating: uss-master/uss/callbacks/\n",
      "  inflating: uss-master/uss/callbacks/base.py  \n",
      "  inflating: uss-master/uss/callbacks/evaluate.py  \n",
      "  inflating: uss-master/uss/config.py  \n",
      "   creating: uss-master/uss/data/\n",
      "  inflating: uss-master/uss/data/anchor_segment_detectors.py  \n",
      "  inflating: uss-master/uss/data/anchor_segment_mixers.py  \n",
      "  inflating: uss-master/uss/data/datamodules.py  \n",
      "  inflating: uss-master/uss/data/datasets.py  \n",
      "  inflating: uss-master/uss/data/samplers.py  \n",
      "   creating: uss-master/uss/dataset_creation/\n",
      "  inflating: uss-master/uss/dataset_creation/create_audioset_evaluation_meta.py  \n",
      "  inflating: uss-master/uss/evaluate.py  \n",
      "  inflating: uss-master/uss/inference.py  \n",
      "  inflating: uss-master/uss/losses.py  \n",
      "   creating: uss-master/uss/models/\n",
      "  inflating: uss-master/uss/models/base.py  \n",
      "  inflating: uss-master/uss/models/film.py  \n",
      "  inflating: uss-master/uss/models/pl_modules.py  \n",
      "  inflating: uss-master/uss/models/query_nets.py  \n",
      "  inflating: uss-master/uss/models/resunet.py  \n",
      "   creating: uss-master/uss/optimizers/\n",
      "  inflating: uss-master/uss/optimizers/lr_schedulers.py  \n",
      "  inflating: uss-master/uss/parse_ontology.py  \n",
      "  inflating: uss-master/uss/train.py  \n",
      "  inflating: uss-master/uss/uss_inference.py  \n",
      "  inflating: uss-master/uss/utils.py  \n"
     ]
    }
   ],
   "source": [
    "!unzip master.zip\n"
   ]
  },
  {
   "cell_type": "code",
   "execution_count": null,
   "metadata": {},
   "outputs": [],
   "source": []
  }
 ],
 "metadata": {
  "kernelspec": {
   "display_name": "Python 3",
   "language": "python",
   "name": "python3"
  },
  "language_info": {
   "codemirror_mode": {
    "name": "ipython",
    "version": 3
   },
   "file_extension": ".py",
   "mimetype": "text/x-python",
   "name": "python",
   "nbconvert_exporter": "python",
   "pygments_lexer": "ipython3",
   "version": "3.8.10"
  },
  "orig_nbformat": 4
 },
 "nbformat": 4,
 "nbformat_minor": 2
}
